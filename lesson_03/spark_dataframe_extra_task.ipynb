{
 "cells": [
  {
   "cell_type": "code",
   "execution_count": 1,
   "metadata": {},
   "outputs": [],
   "source": [
    "from pyspark.sql import SparkSession, functions as F, types as T"
   ]
  },
  {
   "cell_type": "code",
   "execution_count": 3,
   "metadata": {
    "collapsed": false,
    "jupyter": {
     "outputs_hidden": false
    },
    "pycharm": {
     "is_executing": true
    }
   },
   "outputs": [],
   "source": [
    "spark = SparkSession.builder.master(\"spark://spark-master:7077\").config(\"spark.jars.packages\", \n",
    "                                                                        \"org.apache.hadoop:hadoop-aws-2.7.3\").appName(\"spark-hw\").getOrCreate()"
   ]
  },
  {
   "cell_type": "code",
   "execution_count": 4,
   "metadata": {
    "collapsed": false,
    "jupyter": {
     "outputs_hidden": false
    }
   },
   "outputs": [
    {
     "name": "stdout",
     "output_type": "stream",
     "text": [
      "4.0.0\n"
     ]
    }
   ],
   "source": [
    "print(spark.version)"
   ]
  },
  {
   "cell_type": "code",
   "execution_count": 5,
   "metadata": {
    "collapsed": false,
    "jupyter": {
     "outputs_hidden": false
    }
   },
   "outputs": [],
   "source": [
    "actor_df = spark.read.csv('../data/actor.csv', header=True, inferSchema=True)\n",
    "address_df = spark.read.csv('../data/address.csv', header=True, inferSchema=True)\n",
    "category_df = spark.read.csv('../data/category.csv', header=True, inferSchema=True)\n",
    "city_df = spark.read.csv('../data/city.csv', header=True, inferSchema=True)\n",
    "country_df = spark.read.csv('../data/country.csv', header=True, inferSchema=True)\n",
    "customer_df = spark.read.csv('../data/customer.csv', header=True, inferSchema=True)\n",
    "film_df = spark.read.csv('../data/film.csv', header=True, inferSchema=True)\n",
    "film_actor_df = spark.read.csv('../data/film_actor.csv', header=True, inferSchema=True)\n",
    "film_category_df = spark.read.csv('../data/film_category.csv', header=True, inferSchema=True)\n",
    "inventory_df = spark.read.csv('../data/inventory.csv', header=True, inferSchema=True)\n",
    "language_df = spark.read.csv('../data/language.csv', header=True, inferSchema=True)\n",
    "payment_df = spark.read.csv('../data/payment.csv', header=True, inferSchema=True)\n",
    "rental_df = spark.read.csv('../data/rental.csv', header=True, inferSchema=True)\n",
    "staff_df = spark.read.csv('../data/staff.csv', header=True, inferSchema=True)\n",
    "store_df = spark.read.csv('../data/store.csv', header=True, inferSchema=True)"
   ]
  },
  {
   "cell_type": "markdown",
   "metadata": {
    "collapsed": false,
    "jupyter": {
     "outputs_hidden": false
    }
   },
   "source": [
    "# Домашнє завдання на тему Spark SQL\n",
    "\n",
    "Задачі з домашнього завдання на SQL потрібно розвʼязати за допомогою Spark SQL DataFrame API.\n",
    "\n",
    "- Дампи таблиць знаходяться в папці `data`. Датафрейми таблиць вже створені в клітинці вище.\n",
    "- Можете створювати стільки нових клітинок, скільки вам необхідно.\n",
    "- Розвʼязок кожної задачі має бути відображений в самому файлі (використати метод `.show()`)\n",
    "- код має бути оформлений у відповідності із одним із стилем, показаним лектором на занятті 13.\n",
    "\n",
    "**Увага!**\n",
    "Використовувати мову запитів SQL безпосередньо забороняється, потрібно використовувати виключно DataFrame API!\n"
   ]
  },
  {
   "cell_type": "markdown",
   "metadata": {
    "collapsed": false,
    "jupyter": {
     "outputs_hidden": false
    }
   },
   "source": [
    "1.\n",
    "Вивести кількість фільмів в кожній категорії.\n",
    "Результат відсортувати за спаданням."
   ]
  },
  {
   "cell_type": "code",
   "execution_count": 6,
   "metadata": {
    "collapsed": false,
    "jupyter": {
     "outputs_hidden": false
    }
   },
   "outputs": [
    {
     "name": "stdout",
     "output_type": "stream",
     "text": [
      "+-----------+----------+\n",
      "|       name|film_count|\n",
      "+-----------+----------+\n",
      "|     Sports|        74|\n",
      "|    Foreign|        73|\n",
      "|     Family|        69|\n",
      "|Documentary|        68|\n",
      "|  Animation|        66|\n",
      "|     Action|        64|\n",
      "|        New|        63|\n",
      "|      Drama|        62|\n",
      "|      Games|        61|\n",
      "|     Sci-Fi|        61|\n",
      "|   Children|        60|\n",
      "|     Comedy|        58|\n",
      "|     Travel|        57|\n",
      "|   Classics|        57|\n",
      "|     Horror|        56|\n",
      "|      Music|        51|\n",
      "+-----------+----------+\n",
      "\n"
     ]
    }
   ],
   "source": [
    "# з'єднуємо таблиці film_category та category\n",
    "film_with_categories_df = film_category_df.join(\n",
    "    category_df,\n",
    "    film_category_df.category_id == category_df.category_id,\n",
    "    \"inner\"\n",
    ")\n",
    "\n",
    "# групуємо за назвою категорії та рахуємо кількість фільмів\n",
    "films_per_category_df = film_with_categories_df.groupBy(\"name\") \\\n",
    "    .agg(F.count(\"*\").alias(\"film_count\")) \\\n",
    "    .orderBy(F.col(\"film_count\").desc())\n",
    "\n",
    "# виводимо результат\n",
    "films_per_category_df.show()"
   ]
  },
  {
   "cell_type": "markdown",
   "metadata": {
    "collapsed": false,
    "jupyter": {
     "outputs_hidden": false
    }
   },
   "source": [
    "2.\n",
    "Вивести 10 акторів, чиї фільми брали на прокат найбільше.\n",
    "Результат відсортувати за спаданням."
   ]
  },
  {
   "cell_type": "code",
   "execution_count": 7,
   "metadata": {
    "collapsed": false,
    "jupyter": {
     "outputs_hidden": false
    }
   },
   "outputs": [
    {
     "name": "stdout",
     "output_type": "stream",
     "text": [
      "+----------+-----------+------------+\n",
      "|first_name|  last_name|rental_count|\n",
      "+----------+-----------+------------+\n",
      "|     SUSAN|      DAVIS|         825|\n",
      "|      GINA|  DEGENERES|         753|\n",
      "|   MATTHEW|     CARREY|         678|\n",
      "|      MARY|     KEITEL|         674|\n",
      "|    ANGELA|WITHERSPOON|         654|\n",
      "|    WALTER|       TORN|         640|\n",
      "|     HENRY|      BERRY|         612|\n",
      "|     JAYNE|      NOLTE|         611|\n",
      "|       VAL|     BOLGER|         605|\n",
      "|    SANDRA|     KILMER|         604|\n",
      "+----------+-----------+------------+\n",
      "\n"
     ]
    }
   ],
   "source": [
    "# з'єднуємо акторів із їхніми фільмами\n",
    "actor_films_df = actor_df.join(\n",
    "    film_actor_df,\n",
    "    actor_df.actor_id == film_actor_df.actor_id,\n",
    "    \"inner\"\n",
    ")\n",
    "\n",
    "# додаємо інформацію про інвентар\n",
    "actor_inventory_df = actor_films_df.join(\n",
    "    inventory_df,\n",
    "    film_actor_df.film_id == inventory_df.film_id,\n",
    "    \"inner\"\n",
    ")\n",
    "\n",
    "# додаємо інформацію про прокати\n",
    "actor_rentals_df = actor_inventory_df.join(\n",
    "    rental_df,\n",
    "    actor_inventory_df.inventory_id == rental_df.inventory_id,\n",
    "    \"inner\"\n",
    ")\n",
    "\n",
    "# групуємо за актором і рахуємо кількість прокатів\n",
    "top_actors_df = actor_rentals_df.groupBy(\"first_name\", \"last_name\") \\\n",
    "    .agg(F.count(\"*\").alias(\"rental_count\")) \\\n",
    "    .orderBy(F.col(\"rental_count\").desc()) \\\n",
    "    .limit(10)\n",
    "\n",
    "# виводимо результат\n",
    "top_actors_df.show()"
   ]
  },
  {
   "cell_type": "markdown",
   "metadata": {
    "collapsed": false,
    "jupyter": {
     "outputs_hidden": false
    }
   },
   "source": [
    "3.\n",
    "Вивести категорія фільмів, на яку було витрачено найбільше грошей\n",
    "в прокаті"
   ]
  },
  {
   "cell_type": "code",
   "execution_count": 10,
   "metadata": {
    "collapsed": false,
    "jupyter": {
     "outputs_hidden": false
    }
   },
   "outputs": [
    {
     "name": "stdout",
     "output_type": "stream",
     "text": [
      "+------+-----------------+\n",
      "|  name|    total_revenue|\n",
      "+------+-----------------+\n",
      "|Sports|5314.209999999843|\n",
      "+------+-----------------+\n",
      "only showing top 1 row\n"
     ]
    }
   ],
   "source": [
    "# з'єднуємо таблиці\n",
    "film_with_category_df = film_category_df \\\n",
    "    .join(category_df, on=\"category_id\", how=\"inner\") \\\n",
    "    .join(inventory_df, on=\"film_id\", how=\"inner\") \\\n",
    "    .join(rental_df, on=\"inventory_id\", how=\"inner\") \\\n",
    "    .join(payment_df, on=\"rental_id\", how=\"inner\")\n",
    "\n",
    "# агрегуємо суму оплати по категоріях\n",
    "category_revenue_df = film_with_category_df \\\n",
    "    .groupBy(\"name\") \\\n",
    "    .agg(F.sum(\"amount\").alias(\"total_revenue\")) \\\n",
    "    .orderBy(F.desc(\"total_revenue\"))\n",
    "\n",
    "# виводимо категорію з найбільшим доходом\n",
    "category_revenue_df.show(1)"
   ]
  },
  {
   "cell_type": "markdown",
   "metadata": {
    "collapsed": false,
    "jupyter": {
     "outputs_hidden": false
    }
   },
   "source": [
    "4.\n",
    "Вивести назви фільмів, яких не має в inventory."
   ]
  },
  {
   "cell_type": "code",
   "execution_count": 11,
   "metadata": {
    "collapsed": false,
    "jupyter": {
     "outputs_hidden": false
    }
   },
   "outputs": [
    {
     "name": "stdout",
     "output_type": "stream",
     "text": [
      "+--------------------+\n",
      "|               title|\n",
      "+--------------------+\n",
      "|      ALICE FANTASIA|\n",
      "|         APOLLO TEEN|\n",
      "|      ARGONAUTS TOWN|\n",
      "|       ARK RIDGEMONT|\n",
      "|ARSENIC INDEPENDENCE|\n",
      "|   BOONDOCK BALLROOM|\n",
      "|       BUTCH PANTHER|\n",
      "|       CATCH AMISTAD|\n",
      "| CHINATOWN GLADIATOR|\n",
      "|      CHOCOLATE DUCK|\n",
      "|COMMANDMENTS EXPRESS|\n",
      "|    CROSSING DIVORCE|\n",
      "|     CROWDS TELEMARK|\n",
      "|    CRYSTAL BREAKING|\n",
      "|          DAZED PUNK|\n",
      "|DELIVERANCE MULHO...|\n",
      "|   FIREHOUSE VIETNAM|\n",
      "|       FLOATS GARDEN|\n",
      "|FRANKENSTEIN STRA...|\n",
      "|  GLADIATOR WESTWARD|\n",
      "+--------------------+\n",
      "only showing top 20 rows\n"
     ]
    }
   ],
   "source": [
    "# вибираємо лише ті фільми, які не зустрічаються в inventory\n",
    "films_not_in_inventory = film_df.join(\n",
    "    inventory_df,\n",
    "    on=\"film_id\",\n",
    "    how=\"left_anti\"  # залишає тільки ті, яких немає в inventory\n",
    ")\n",
    "\n",
    "# виводимо назви таких фільмів\n",
    "films_not_in_inventory.select(\"title\").show()"
   ]
  },
  {
   "cell_type": "markdown",
   "metadata": {
    "collapsed": false,
    "jupyter": {
     "outputs_hidden": false
    }
   },
   "source": [
    "5.\n",
    "Вивести топ 3 актори, які найбільше зʼявлялись в категорії фільмів “Children”"
   ]
  },
  {
   "cell_type": "code",
   "execution_count": 12,
   "metadata": {
    "collapsed": false,
    "jupyter": {
     "outputs_hidden": false
    },
    "pycharm": {
     "is_executing": true
    }
   },
   "outputs": [
    {
     "name": "stdout",
     "output_type": "stream",
     "text": [
      "+--------+----------+---------+-----+\n",
      "|actor_id|first_name|last_name|count|\n",
      "+--------+----------+---------+-----+\n",
      "|      17|     HELEN|   VOIGHT|    7|\n",
      "|     127|     KEVIN|  GARLAND|    5|\n",
      "|     140|    WHOOPI|     HURT|    5|\n",
      "+--------+----------+---------+-----+\n",
      "\n"
     ]
    }
   ],
   "source": [
    "# об'єднуємо фільми з категоріями\n",
    "film_with_category = film_df.join(film_category_df, on=\"film_id\") \\\n",
    "                            .join(category_df, on=\"category_id\")\n",
    "\n",
    "# фільтруємо лише категорію \"Children\"\n",
    "children_films = film_with_category.filter(film_with_category.name == \"Children\")\n",
    "\n",
    "# додаємо акторів, які знімались у цих фільмах\n",
    "children_actors = children_films.join(film_actor_df, on=\"film_id\") \\\n",
    "                                .join(actor_df, on=\"actor_id\")\n",
    "\n",
    "# групуємо по акторам, рахуємо кількість фільмів\n",
    "top_actors = children_actors.groupBy(\"actor_id\", \"first_name\", \"last_name\") \\\n",
    "                            .count() \\\n",
    "                            .orderBy(\"count\", ascending=False) \\\n",
    "                            .limit(3)\n",
    "\n",
    "# виводимо результат\n",
    "top_actors.show()"
   ]
  },
  {
   "cell_type": "markdown",
   "metadata": {
    "collapsed": false,
    "jupyter": {
     "outputs_hidden": false
    }
   },
   "source": [
    "Stop Spark session:"
   ]
  },
  {
   "cell_type": "code",
   "execution_count": 13,
   "metadata": {
    "collapsed": false,
    "jupyter": {
     "outputs_hidden": false
    }
   },
   "outputs": [],
   "source": [
    "spark.stop()"
   ]
  },
  {
   "cell_type": "code",
   "execution_count": null,
   "metadata": {},
   "outputs": [],
   "source": []
  }
 ],
 "metadata": {
  "kernelspec": {
   "display_name": "Python 3 (ipykernel)",
   "language": "python",
   "name": "python3"
  },
  "language_info": {
   "codemirror_mode": {
    "name": "ipython",
    "version": 3
   },
   "file_extension": ".py",
   "mimetype": "text/x-python",
   "name": "python",
   "nbconvert_exporter": "python",
   "pygments_lexer": "ipython3",
   "version": "3.10.0"
  }
 },
 "nbformat": 4,
 "nbformat_minor": 4
}
