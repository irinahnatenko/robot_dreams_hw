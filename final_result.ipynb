{
 "cells": [
  {
   "cell_type": "code",
   "execution_count": 5,
   "id": "eebbd0d2-dffc-4b43-ada7-cca8c79af4f0",
   "metadata": {},
   "outputs": [
    {
     "name": "stdout",
     "output_type": "stream",
     "text": [
      "+-----+-----+\n",
      "|state|count|\n",
      "+-----+-----+\n",
      "| Iowa|  374|\n",
      "+-----+-----+\n",
      "only showing top 1 row\n",
      "\n"
     ]
    }
   ],
   "source": [
    "from pyspark.sql import SparkSession\n",
    "from pyspark.sql.functions import col, year, month, dayofmonth, current_date, datediff, to_date\n",
    "\n",
    "spark = SparkSession.builder.appName(\"AnalyticsTask\").getOrCreate()\n",
    "\n",
    "base_path = \"/home/jovyan/data\"\n",
    "\n",

    "df_purchases = spark.read.parquet(f\"{base_path}/silver/sales/\")\n",
    "\n",

    "df_profiles = spark.read.parquet(f\"{base_path}/gold/user_profiles_enriched/\")\n",
    "\n",

    "df_profiles = df_profiles.withColumn(\n",
    "    \"age\", (datediff(current_date(), to_date(col(\"birth_date\"))) / 365.25).cast(\"integer\")\n",
    ")\n",
    "\n",

    "df_joined = df_purchases.join(\n",
    "    df_profiles,\n",
    "    on=\"client_id\",\n",
    "    how=\"inner\"\n",
    ")\n",
    "\n",

    "df_filtered = df_joined.filter(\n",
    "    (col(\"product_name\") == \"TV\") &\n",
    "    (col(\"age\") >= 20) &\n",
    "    (col(\"age\") <= 30) &\n",
    "    (month(col(\"purchase_date\")) == 9) &\n",
    "    (dayofmonth(col(\"purchase_date\")) <= 10)\n",
    ")\n",
    "\n",

    "df_result = df_filtered.groupBy(\"state\").count().orderBy(col(\"count\").desc())\n",
    "\n",
    "df_result.show(1)"
   ]
  }
 ],
 "metadata": {
  "kernelspec": {
   "display_name": "Python 3 (ipykernel)",
   "language": "python",
   "name": "python3"
  },
  "language_info": {
   "codemirror_mode": {
    "name": "ipython",
    "version": 3
   },
   "file_extension": ".py",
   "mimetype": "text/x-python",
   "name": "python",
   "nbconvert_exporter": "python",
   "pygments_lexer": "ipython3",
   "version": "3.11.6"
  }
 },
 "nbformat": 4,
 "nbformat_minor": 5
}
